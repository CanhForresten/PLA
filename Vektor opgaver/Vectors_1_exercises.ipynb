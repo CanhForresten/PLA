{
  "nbformat": 4,
  "nbformat_minor": 0,
  "metadata": {
    "colab": {
      "provenance": [],
      "include_colab_link": true
    },
    "kernelspec": {
      "name": "python3",
      "display_name": "Python 3"
    },
    "language_info": {
      "name": "python"
    }
  },
  "cells": [
    {
      "cell_type": "markdown",
      "metadata": {
        "id": "view-in-github",
        "colab_type": "text"
      },
      "source": [
        "<a href=\"https://colab.research.google.com/github/CanhForresten/Eksamen/blob/main/Vectors_1_exercises.ipynb\" target=\"_parent\"><img src=\"https://colab.research.google.com/assets/colab-badge.svg\" alt=\"Open In Colab\"/></a>"
      ]
    },
    {
      "cell_type": "markdown",
      "source": [
        "# Exercises for Vectors 1"
      ],
      "metadata": {
        "id": "Kk1cZMAPfgMC"
      }
    },
    {
      "cell_type": "code",
      "source": [],
      "metadata": {
        "id": "jwYwVnifgRYQ"
      },
      "execution_count": null,
      "outputs": []
    },
    {
      "cell_type": "markdown",
      "source": [
        "# Exercise 1\n",
        "\n",
        "The following code creates some vectors, but when executed it issues an error:\n",
        "\n",
        "\"NameError: name 'np' is not defined\"\n",
        "\n",
        "What could be the cause of it? See slide \"Creating  Vectors In NumPy​\"...\n",
        "\n",
        "Correct the code to be able to run it!"
      ],
      "metadata": {
        "id": "CYzMAIBFX0YO"
      }
    },
    {
      "cell_type": "code",
      "source": [
        "# Insert your correction here\n",
        "\n",
        "# a vector as a Python list datatype\n",
        "asList = [1,2,3]\n",
        "\n",
        "# same numbers, but as a dimensionless numpy array\n",
        "asArray = np.array([1,2,3])\n",
        "\n",
        "# again same numbers, but now endowed with orientations\n",
        "rowVec = np.array([ [1,2,3] ]) # row\n",
        "colVec = np.array([ [1],[2],[3] ]) # column\n",
        "\n",
        "# Note the use of spacing when defining the vectors; that is not necessary but makes the code more readable."
      ],
      "metadata": {
        "id": "UV_5pPugXoeO"
      },
      "execution_count": null,
      "outputs": []
    },
    {
      "cell_type": "markdown",
      "source": [
        "# Exercise 2\n",
        "\n",
        "After correcting the notebook, you will be able to check the shape of the created vectors with the following code.\n",
        "     "
      ],
      "metadata": {
        "id": "EjdTIHKLfrQF"
      }
    },
    {
      "cell_type": "code",
      "source": [
        "# Check the sizes of the variables\n",
        "print(f'asList:  {np.shape(asList)}') # using np's shape function\n",
        "print(f'asArray: {asArray.shape}') # using a method associated with numpy objects\n",
        "print(f'rowVec:  {rowVec.shape}')\n",
        "print(f'colVec:  {colVec.shape}')"
      ],
      "metadata": {
        "id": "rry979VrZ_i0"
      },
      "execution_count": null,
      "outputs": []
    },
    {
      "cell_type": "markdown",
      "source": [
        "Check the API definition of the **type** funtion in Python and call it on asList, asArray, rowVec, and colVec."
      ],
      "metadata": {
        "id": "uqldIv2Iawvw"
      }
    },
    {
      "cell_type": "code",
      "source": [
        "# Your solution here"
      ],
      "metadata": {
        "id": "h-6Pc-Ada0lu"
      },
      "execution_count": null,
      "outputs": []
    },
    {
      "cell_type": "markdown",
      "source": [
        "What is the meaning of the different results?"
      ],
      "metadata": {
        "id": "Qjs-_xnNa3Rl"
      }
    },
    {
      "cell_type": "markdown",
      "source": [
        "# Exercise 3\n",
        " Create two row vectors u and v, where u contains the elements 2 and 5 and v contains the elements 1 and 3. Create also two column vectors  x and y where x contains elements 3, 4, and 7; and y contains elements 2, 8, and 3."
      ],
      "metadata": {
        "id": "-uYolH9BJK_A"
      }
    },
    {
      "cell_type": "markdown",
      "source": [
        "# Exercise 4\n",
        "Calculate the following operations:\n",
        "\n",
        "\n",
        "*   u + v\n",
        "*   u - v\n",
        "*   x + y\n",
        "*   y - x"
      ],
      "metadata": {
        "id": "W78-Q8eFfvHm"
      }
    },
    {
      "cell_type": "markdown",
      "source": [
        "# Exercise 5\n",
        "Given a scalar λ = 4. Multiply λ by x."
      ],
      "metadata": {
        "id": "MiwTLsRDgPor"
      }
    },
    {
      "cell_type": "markdown",
      "source": [
        "# Exercise 6\n",
        "\n",
        "\n",
        "Check the documentation of the function [zeros](https://numpy.org/doc/stable/reference/generated/numpy.zeros.html).\n",
        "\n",
        "Create a row vector with 5 zeros and a column vector with 2 zeros."
      ],
      "metadata": {
        "id": "eC8X4s1p5-8c"
      }
    },
    {
      "cell_type": "code",
      "source": [],
      "metadata": {
        "id": "sB1frtrz5-jb"
      },
      "execution_count": null,
      "outputs": []
    },
    {
      "cell_type": "markdown",
      "source": [
        "# Exercise 7\n",
        "\n",
        "Create a new vector vT, that is the vector transpose of vector v.\n",
        "\n",
        "Create a new vector xT, that is the vector transpose of vector x.\n",
        "\n",
        "Print all 4 vectors."
      ],
      "metadata": {
        "id": "192iDjFpgVTZ"
      }
    },
    {
      "cell_type": "code",
      "source": [
        "vT ="
      ],
      "metadata": {
        "id": "ZWRQXh_Mc5Uo"
      },
      "execution_count": null,
      "outputs": []
    },
    {
      "cell_type": "markdown",
      "source": [],
      "metadata": {
        "id": "63jdTPZGgcLp"
      }
    },
    {
      "cell_type": "markdown",
      "source": [],
      "metadata": {
        "id": "1NR6ixrTT1X1"
      }
    },
    {
      "cell_type": "markdown",
      "source": [
        "## Exercise 8\n",
        "\n",
        "Given vectors a and b defined below:\n",
        "\n",
        "```\n",
        "a = np.array([1, 2, 3])\n",
        "b = np.array([[10],\n",
        "              [20],\n",
        "              [30]])\n",
        "```\n",
        "when we print their sum\n",
        "\n",
        "```\n",
        "print(a+b)\n",
        "```\n",
        "We obtain the following array as a result:\n",
        "```\n",
        "[[11 12 13]\n",
        " [21 22 23]\n",
        " [31 32 33]]\n",
        "```\n",
        "\n",
        "What is the meaning of this operation? Is this a valid operation of Linear Algebra? You can build your argument from the NumPy [documentation](https://numpy.org/doc/stable/user/basics.broadcasting.html).\n",
        "\n"
      ],
      "metadata": {
        "id": "X0_5KrQvo_Y7"
      }
    },
    {
      "cell_type": "markdown",
      "source": [
        "# Exercise 9\n",
        "\n",
        "Calculate the norm of vector w."
      ],
      "metadata": {
        "id": "9veYeyZopwLh"
      }
    },
    {
      "cell_type": "code",
      "source": [
        "w = np.array([[8],[6],[28]])"
      ],
      "metadata": {
        "id": "QbdJmm5XpzIl"
      },
      "execution_count": null,
      "outputs": []
    },
    {
      "cell_type": "markdown",
      "source": [
        "# Exercise 10\n",
        "\n",
        "Create a Python function \"toUnit\" that will take a vector as input and output a unit vector in the same direction.\n",
        "\n",
        "Hints:\n",
        "\n",
        "*   Check how to define functions in this [link](https://www.w3schools.com/python/python_functions.asp)\n",
        "*   Learn the different arithmetic operators in [here](https://www.w3schools.com/python/gloss_python_arithmetic_operators.asp)\n",
        "\n",
        "\n",
        "Try your function with vector w. Do not forget to check that the norm of the output vector is indeed 1.\n",
        "\n",
        "What happens when you input the zeros vector?\n"
      ],
      "metadata": {
        "id": "uPimEpC8glw4"
      }
    },
    {
      "cell_type": "markdown",
      "source": [
        "## Exercise 11\n",
        "Given a and b defined below.\n",
        "\n",
        "Calculate the dot product of a and b.\n"
      ],
      "metadata": {
        "id": "kik0w2WQ_Yl4"
      }
    },
    {
      "cell_type": "code",
      "source": [
        "a = np.array([[1,2,3]])\n",
        "b = np.array([[4],[5],[6]])\n",
        "\n",
        "# Your solution here"
      ],
      "metadata": {
        "id": "7JEOE_dfu6h9"
      },
      "execution_count": null,
      "outputs": []
    },
    {
      "cell_type": "markdown",
      "source": [
        "# Exercise 12\n",
        "\n",
        "The dot product is commutative, so if you compute the dot product of b and a you would expect the same result. That is 32.\n",
        "\n",
        "What happened when you computed the dot product of b and a?\n",
        "\n",
        "Get a hint on why that happens on the [documentation](https://numpy.org/doc/stable/reference/generated/numpy.dot.html)\n",
        "\n",
        "\n",
        "Could you solve this issues by using the vector transpose?"
      ],
      "metadata": {
        "id": "0TpUJZJxu3Ol"
      }
    }
  ]
}